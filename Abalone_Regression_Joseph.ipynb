{
  "nbformat": 4,
  "nbformat_minor": 0,
  "metadata": {
    "colab": {
      "provenance": []
    },
    "kernelspec": {
      "name": "python3",
      "display_name": "Python 3"
    },
    "language_info": {
      "name": "python"
    }
  },
  "cells": [
    {
      "cell_type": "markdown",
      "source": [
        "## **Setup and Data Preparation**"
      ],
      "metadata": {
        "id": "GrOfCjErH25u"
      }
    },
    {
      "cell_type": "code",
      "execution_count": null,
      "metadata": {
        "id": "sCLiMqKVFIZ_"
      },
      "outputs": [],
      "source": [
        "# Import libraries\n",
        "import numpy as np\n",
        "import pandas as pd\n",
        "import seaborn as sns\n",
        "import matplotlib.pyplot as plt\n",
        "\n",
        "# Set the aesthetic style of the plots\n",
        "sns.set()\n",
        "\n",
        "from xgboost import XGBRegressor\n",
        "from sklearn.metrics import mean_squared_log_error\n",
        "\n"
      ]
    },
    {
      "cell_type": "code",
      "source": [
        "# Load your training and test datasets\n",
        "train_data = pd.read_csv('/content/train.csv')\n",
        "test_data = pd.read_csv('/content/test.csv')\n",
        "\n"
      ],
      "metadata": {
        "id": "KRnfZi8tHi0I"
      },
      "execution_count": null,
      "outputs": []
    },
    {
      "cell_type": "code",
      "source": [
        "# Preview the data\n",
        "print(train_data.head())\n",
        "print(test_data.head())\n",
        "\n"
      ],
      "metadata": {
        "id": "CTQ2p0IyHmwn",
        "colab": {
          "base_uri": "https://localhost:8080/"
        },
        "outputId": "bd46ebdb-d328-47f2-86f1-421534bcf70a"
      },
      "execution_count": null,
      "outputs": [
        {
          "output_type": "stream",
          "name": "stdout",
          "text": [
            "   id Sex  Length  Diameter  Height  Whole weight  Whole weight.1  \\\n",
            "0   0   F   0.550     0.430   0.150        0.7715          0.3285   \n",
            "1   1   F   0.630     0.490   0.145        1.1300          0.4580   \n",
            "2   2   I   0.160     0.110   0.025        0.0210          0.0055   \n",
            "3   3   M   0.595     0.475   0.150        0.9145          0.3755   \n",
            "4   4   I   0.555     0.425   0.130        0.7820          0.3695   \n",
            "\n",
            "   Whole weight.2  Shell weight  Rings  \n",
            "0          0.1465        0.2400     11  \n",
            "1          0.2765        0.3200     11  \n",
            "2          0.0030        0.0050      6  \n",
            "3          0.2055        0.2500     10  \n",
            "4          0.1600        0.1975      9  \n",
            "      id Sex  Length  Diameter  Height  Whole weight  Whole weight.1  \\\n",
            "0  90615   M   0.645     0.475   0.155        1.2380          0.6185   \n",
            "1  90616   M   0.580     0.460   0.160        0.9830          0.4785   \n",
            "2  90617   M   0.560     0.420   0.140        0.8395          0.3525   \n",
            "3  90618   M   0.570     0.490   0.145        0.8740          0.3525   \n",
            "4  90619   I   0.415     0.325   0.110        0.3580          0.1575   \n",
            "\n",
            "   Whole weight.2  Shell weight  \n",
            "0          0.3125        0.3005  \n",
            "1          0.2195        0.2750  \n",
            "2          0.1845        0.2405  \n",
            "3          0.1865        0.2350  \n",
            "4          0.0670        0.1050  \n"
          ]
        }
      ]
    },
    {
      "cell_type": "code",
      "source": [
        "# Select features and target from the training data\n",
        "X_train = train_data.drop('Rings', axis=1)  # replace 'target_column_name' with the name of your target column\n",
        "y_train = train_data['Rings']\n",
        "\n"
      ],
      "metadata": {
        "id": "U0cz09YVHoyc"
      },
      "execution_count": null,
      "outputs": []
    },
    {
      "cell_type": "code",
      "source": [
        "# Initialize and train the XGBRegressor or any suitable model\n",
        "# Convert 'Sex' to categorical type explicitly\n",
        "X_train['Sex'] = X_train['Sex'].astype('category')\n",
        "\n",
        "# Confirm the conversion\n",
        "print(\"After conversion:\", X_train['Sex'].dtype)\n",
        "\n",
        "# Initialize the XGBRegressor with enable_categorical=True\n",
        "model = XGBRegressor(learning_rate=0.001, n_estimators=1000, enable_categorical=True)\n",
        "\n",
        "# Fit the model on the training data\n",
        "model.fit(X_train, y_train)\n"
      ],
      "metadata": {
        "id": "zzfI663kNr9F",
        "colab": {
          "base_uri": "https://localhost:8080/",
          "height": 266
        },
        "outputId": "c0cd0fca-7f28-477a-d271-67e92fd1aae4"
      },
      "execution_count": null,
      "outputs": [
        {
          "output_type": "stream",
          "name": "stdout",
          "text": [
            "After conversion: category\n"
          ]
        },
        {
          "output_type": "execute_result",
          "data": {
            "text/plain": [
              "XGBRegressor(base_score=None, booster=None, callbacks=None,\n",
              "             colsample_bylevel=None, colsample_bynode=None,\n",
              "             colsample_bytree=None, device=None, early_stopping_rounds=None,\n",
              "             enable_categorical=True, eval_metric=None, feature_types=None,\n",
              "             gamma=None, grow_policy=None, importance_type=None,\n",
              "             interaction_constraints=None, learning_rate=0.001, max_bin=None,\n",
              "             max_cat_threshold=None, max_cat_to_onehot=None,\n",
              "             max_delta_step=None, max_depth=None, max_leaves=None,\n",
              "             min_child_weight=None, missing=nan, monotone_constraints=None,\n",
              "             multi_strategy=None, n_estimators=1000, n_jobs=None,\n",
              "             num_parallel_tree=None, random_state=None, ...)"
            ],
            "text/html": [
              "<style>#sk-container-id-1 {color: black;background-color: white;}#sk-container-id-1 pre{padding: 0;}#sk-container-id-1 div.sk-toggleable {background-color: white;}#sk-container-id-1 label.sk-toggleable__label {cursor: pointer;display: block;width: 100%;margin-bottom: 0;padding: 0.3em;box-sizing: border-box;text-align: center;}#sk-container-id-1 label.sk-toggleable__label-arrow:before {content: \"▸\";float: left;margin-right: 0.25em;color: #696969;}#sk-container-id-1 label.sk-toggleable__label-arrow:hover:before {color: black;}#sk-container-id-1 div.sk-estimator:hover label.sk-toggleable__label-arrow:before {color: black;}#sk-container-id-1 div.sk-toggleable__content {max-height: 0;max-width: 0;overflow: hidden;text-align: left;background-color: #f0f8ff;}#sk-container-id-1 div.sk-toggleable__content pre {margin: 0.2em;color: black;border-radius: 0.25em;background-color: #f0f8ff;}#sk-container-id-1 input.sk-toggleable__control:checked~div.sk-toggleable__content {max-height: 200px;max-width: 100%;overflow: auto;}#sk-container-id-1 input.sk-toggleable__control:checked~label.sk-toggleable__label-arrow:before {content: \"▾\";}#sk-container-id-1 div.sk-estimator input.sk-toggleable__control:checked~label.sk-toggleable__label {background-color: #d4ebff;}#sk-container-id-1 div.sk-label input.sk-toggleable__control:checked~label.sk-toggleable__label {background-color: #d4ebff;}#sk-container-id-1 input.sk-hidden--visually {border: 0;clip: rect(1px 1px 1px 1px);clip: rect(1px, 1px, 1px, 1px);height: 1px;margin: -1px;overflow: hidden;padding: 0;position: absolute;width: 1px;}#sk-container-id-1 div.sk-estimator {font-family: monospace;background-color: #f0f8ff;border: 1px dotted black;border-radius: 0.25em;box-sizing: border-box;margin-bottom: 0.5em;}#sk-container-id-1 div.sk-estimator:hover {background-color: #d4ebff;}#sk-container-id-1 div.sk-parallel-item::after {content: \"\";width: 100%;border-bottom: 1px solid gray;flex-grow: 1;}#sk-container-id-1 div.sk-label:hover label.sk-toggleable__label {background-color: #d4ebff;}#sk-container-id-1 div.sk-serial::before {content: \"\";position: absolute;border-left: 1px solid gray;box-sizing: border-box;top: 0;bottom: 0;left: 50%;z-index: 0;}#sk-container-id-1 div.sk-serial {display: flex;flex-direction: column;align-items: center;background-color: white;padding-right: 0.2em;padding-left: 0.2em;position: relative;}#sk-container-id-1 div.sk-item {position: relative;z-index: 1;}#sk-container-id-1 div.sk-parallel {display: flex;align-items: stretch;justify-content: center;background-color: white;position: relative;}#sk-container-id-1 div.sk-item::before, #sk-container-id-1 div.sk-parallel-item::before {content: \"\";position: absolute;border-left: 1px solid gray;box-sizing: border-box;top: 0;bottom: 0;left: 50%;z-index: -1;}#sk-container-id-1 div.sk-parallel-item {display: flex;flex-direction: column;z-index: 1;position: relative;background-color: white;}#sk-container-id-1 div.sk-parallel-item:first-child::after {align-self: flex-end;width: 50%;}#sk-container-id-1 div.sk-parallel-item:last-child::after {align-self: flex-start;width: 50%;}#sk-container-id-1 div.sk-parallel-item:only-child::after {width: 0;}#sk-container-id-1 div.sk-dashed-wrapped {border: 1px dashed gray;margin: 0 0.4em 0.5em 0.4em;box-sizing: border-box;padding-bottom: 0.4em;background-color: white;}#sk-container-id-1 div.sk-label label {font-family: monospace;font-weight: bold;display: inline-block;line-height: 1.2em;}#sk-container-id-1 div.sk-label-container {text-align: center;}#sk-container-id-1 div.sk-container {/* jupyter's `normalize.less` sets `[hidden] { display: none; }` but bootstrap.min.css set `[hidden] { display: none !important; }` so we also need the `!important` here to be able to override the default hidden behavior on the sphinx rendered scikit-learn.org. See: https://github.com/scikit-learn/scikit-learn/issues/21755 */display: inline-block !important;position: relative;}#sk-container-id-1 div.sk-text-repr-fallback {display: none;}</style><div id=\"sk-container-id-1\" class=\"sk-top-container\"><div class=\"sk-text-repr-fallback\"><pre>XGBRegressor(base_score=None, booster=None, callbacks=None,\n",
              "             colsample_bylevel=None, colsample_bynode=None,\n",
              "             colsample_bytree=None, device=None, early_stopping_rounds=None,\n",
              "             enable_categorical=True, eval_metric=None, feature_types=None,\n",
              "             gamma=None, grow_policy=None, importance_type=None,\n",
              "             interaction_constraints=None, learning_rate=0.001, max_bin=None,\n",
              "             max_cat_threshold=None, max_cat_to_onehot=None,\n",
              "             max_delta_step=None, max_depth=None, max_leaves=None,\n",
              "             min_child_weight=None, missing=nan, monotone_constraints=None,\n",
              "             multi_strategy=None, n_estimators=1000, n_jobs=None,\n",
              "             num_parallel_tree=None, random_state=None, ...)</pre><b>In a Jupyter environment, please rerun this cell to show the HTML representation or trust the notebook. <br />On GitHub, the HTML representation is unable to render, please try loading this page with nbviewer.org.</b></div><div class=\"sk-container\" hidden><div class=\"sk-item\"><div class=\"sk-estimator sk-toggleable\"><input class=\"sk-toggleable__control sk-hidden--visually\" id=\"sk-estimator-id-1\" type=\"checkbox\" checked><label for=\"sk-estimator-id-1\" class=\"sk-toggleable__label sk-toggleable__label-arrow\">XGBRegressor</label><div class=\"sk-toggleable__content\"><pre>XGBRegressor(base_score=None, booster=None, callbacks=None,\n",
              "             colsample_bylevel=None, colsample_bynode=None,\n",
              "             colsample_bytree=None, device=None, early_stopping_rounds=None,\n",
              "             enable_categorical=True, eval_metric=None, feature_types=None,\n",
              "             gamma=None, grow_policy=None, importance_type=None,\n",
              "             interaction_constraints=None, learning_rate=0.001, max_bin=None,\n",
              "             max_cat_threshold=None, max_cat_to_onehot=None,\n",
              "             max_delta_step=None, max_depth=None, max_leaves=None,\n",
              "             min_child_weight=None, missing=nan, monotone_constraints=None,\n",
              "             multi_strategy=None, n_estimators=1000, n_jobs=None,\n",
              "             num_parallel_tree=None, random_state=None, ...)</pre></div></div></div></div></div>"
            ]
          },
          "metadata": {},
          "execution_count": 6
        }
      ]
    },
    {
      "cell_type": "code",
      "source": [
        "# Select features and target from the test data\n",
        "X_test = test_data.copy()  # ensure this is the same in the training set\n",
        "y_test = test_data['Sex']"
      ],
      "metadata": {
        "id": "tAJGDht3HrnA"
      },
      "execution_count": null,
      "outputs": []
    },
    {
      "cell_type": "code",
      "source": [
        "# Pandas get_dummies for one-hot encoding\n",
        "#X_test = pd.get_dummies(X_test, columns=['Sex'])\n",
        "X_test['Sex'] = X_test['Sex'].astype('category')  # Assuming you will predict on this later\n",
        "y_test['Sex'] = X_test['Sex'].astype('category')  # Assuming you will predict on this later\n",
        "# Confirm the conversion\n",
        "print(\"After conversion:\", X_test['Sex'].dtype)\n",
        "\n"
      ],
      "metadata": {
        "id": "o0gXc4vEOtHi",
        "colab": {
          "base_uri": "https://localhost:8080/"
        },
        "outputId": "1fed91d3-19de-4f64-add8-2d3c7f97dbf2"
      },
      "execution_count": null,
      "outputs": [
        {
          "output_type": "stream",
          "name": "stdout",
          "text": [
            "After conversion: category\n"
          ]
        },
        {
          "output_type": "stream",
          "name": "stderr",
          "text": [
            "<ipython-input-8-5de5e7cc263e>:4: SettingWithCopyWarning: \n",
            "A value is trying to be set on a copy of a slice from a DataFrame\n",
            "\n",
            "See the caveats in the documentation: https://pandas.pydata.org/pandas-docs/stable/user_guide/indexing.html#returning-a-view-versus-a-copy\n",
            "  y_test['Sex'] = X_test['Sex'].astype('category')  # Assuming you will predict on this later\n"
          ]
        }
      ]
    },
    {
      "cell_type": "code",
      "source": [
        "# Predict the missing target values in the test set\n",
        "y_pred = model.predict(X_test)\n",
        "# Create a new DataFrame with just the feature and the predictions\n",
        "test_data = pd.DataFrame({\n",
        "    'id': X_test['id'],  # Ensure this column exists in X_test\n",
        "    'Rings': y_pred               # This column will contain your model's predictions\n",
        "})\n",
        "\n",
        "test_data.to_csv('predictions.csv', index=False)\n"
      ],
      "metadata": {
        "id": "MEq6XoB5S44T"
      },
      "execution_count": null,
      "outputs": []
    },
    {
      "cell_type": "code",
      "source": [
        "#Check predictions file for conformity\n",
        "prediction = pd.read_csv('/content/predictions.csv')\n",
        "print(prediction.head(10))"
      ],
      "metadata": {
        "id": "iFvzXQAaaG1i",
        "colab": {
          "base_uri": "https://localhost:8080/"
        },
        "outputId": "00462cf0-823f-484b-926b-a923a0602d37"
      },
      "execution_count": 10,
      "outputs": [
        {
          "output_type": "stream",
          "name": "stdout",
          "text": [
            "      id      Rings\n",
            "0  90615   9.803586\n",
            "1  90616   9.738421\n",
            "2  90617  10.107829\n",
            "3  90618  10.145141\n",
            "4  90619   8.347319\n",
            "5  90620   9.638489\n",
            "6  90621  10.809762\n",
            "7  90622   7.574483\n",
            "8  90623   8.739467\n",
            "9  90624  10.756768\n"
          ]
        }
      ]
    }
  ]
}